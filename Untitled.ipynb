{
 "cells": [
  {
   "cell_type": "code",
   "execution_count": 1,
   "metadata": {},
   "outputs": [],
   "source": [
    "import altair as alt\n",
    "from vega_datasets import data"
   ]
  },
  {
   "cell_type": "code",
   "execution_count": 2,
   "metadata": {},
   "outputs": [],
   "source": [
    "source=data.barley()"
   ]
  },
  {
   "cell_type": "code",
   "execution_count": 3,
   "metadata": {},
   "outputs": [
    {
     "data": {
      "text/html": [
       "<div>\n",
       "<style scoped>\n",
       "    .dataframe tbody tr th:only-of-type {\n",
       "        vertical-align: middle;\n",
       "    }\n",
       "\n",
       "    .dataframe tbody tr th {\n",
       "        vertical-align: top;\n",
       "    }\n",
       "\n",
       "    .dataframe thead th {\n",
       "        text-align: right;\n",
       "    }\n",
       "</style>\n",
       "<table border=\"1\" class=\"dataframe\">\n",
       "  <thead>\n",
       "    <tr style=\"text-align: right;\">\n",
       "      <th></th>\n",
       "      <th>year</th>\n",
       "      <th>yield</th>\n",
       "    </tr>\n",
       "  </thead>\n",
       "  <tbody>\n",
       "    <tr>\n",
       "      <th>count</th>\n",
       "      <td>120.000000</td>\n",
       "      <td>120.000000</td>\n",
       "    </tr>\n",
       "    <tr>\n",
       "      <th>mean</th>\n",
       "      <td>1931.500000</td>\n",
       "      <td>34.420555</td>\n",
       "    </tr>\n",
       "    <tr>\n",
       "      <th>std</th>\n",
       "      <td>0.502096</td>\n",
       "      <td>10.334706</td>\n",
       "    </tr>\n",
       "    <tr>\n",
       "      <th>min</th>\n",
       "      <td>1931.000000</td>\n",
       "      <td>14.433330</td>\n",
       "    </tr>\n",
       "    <tr>\n",
       "      <th>25%</th>\n",
       "      <td>1931.000000</td>\n",
       "      <td>26.875000</td>\n",
       "    </tr>\n",
       "    <tr>\n",
       "      <th>50%</th>\n",
       "      <td>1931.500000</td>\n",
       "      <td>32.866670</td>\n",
       "    </tr>\n",
       "    <tr>\n",
       "      <th>75%</th>\n",
       "      <td>1932.000000</td>\n",
       "      <td>41.399997</td>\n",
       "    </tr>\n",
       "    <tr>\n",
       "      <th>max</th>\n",
       "      <td>1932.000000</td>\n",
       "      <td>65.766700</td>\n",
       "    </tr>\n",
       "  </tbody>\n",
       "</table>\n",
       "</div>"
      ],
      "text/plain": [
       "              year       yield\n",
       "count   120.000000  120.000000\n",
       "mean   1931.500000   34.420555\n",
       "std       0.502096   10.334706\n",
       "min    1931.000000   14.433330\n",
       "25%    1931.000000   26.875000\n",
       "50%    1931.500000   32.866670\n",
       "75%    1932.000000   41.399997\n",
       "max    1932.000000   65.766700"
      ]
     },
     "execution_count": 3,
     "metadata": {},
     "output_type": "execute_result"
    }
   ],
   "source": [
    "source.describe()"
   ]
  },
  {
   "cell_type": "code",
   "execution_count": 4,
   "metadata": {},
   "outputs": [
    {
     "data": {
      "text/plain": [
       "RangeIndex(start=0, stop=120, step=1)"
      ]
     },
     "execution_count": 4,
     "metadata": {},
     "output_type": "execute_result"
    }
   ],
   "source": [
    "source.index"
   ]
  },
  {
   "cell_type": "code",
   "execution_count": 6,
   "metadata": {},
   "outputs": [
    {
     "data": {
      "text/plain": [
       "Index(['site', 'variety', 'year', 'yield'], dtype='object')"
      ]
     },
     "execution_count": 6,
     "metadata": {},
     "output_type": "execute_result"
    }
   ],
   "source": [
    "source.columns"
   ]
  },
  {
   "cell_type": "code",
   "execution_count": 5,
   "metadata": {},
   "outputs": [
    {
     "data": {
      "text/html": [
       "\n",
       "<div id=\"altair-viz-78b175e70bd94aeaa614441f10085bf7\"></div>\n",
       "<script type=\"text/javascript\">\n",
       "  (function(spec, embedOpt){\n",
       "    let outputDiv = document.currentScript.previousElementSibling;\n",
       "    if (outputDiv.id !== \"altair-viz-78b175e70bd94aeaa614441f10085bf7\") {\n",
       "      outputDiv = document.getElementById(\"altair-viz-78b175e70bd94aeaa614441f10085bf7\");\n",
       "    }\n",
       "    const paths = {\n",
       "      \"vega\": \"https://cdn.jsdelivr.net/npm//vega@5?noext\",\n",
       "      \"vega-lib\": \"https://cdn.jsdelivr.net/npm//vega-lib?noext\",\n",
       "      \"vega-lite\": \"https://cdn.jsdelivr.net/npm//vega-lite@4.8.1?noext\",\n",
       "      \"vega-embed\": \"https://cdn.jsdelivr.net/npm//vega-embed@6?noext\",\n",
       "    };\n",
       "\n",
       "    function loadScript(lib) {\n",
       "      return new Promise(function(resolve, reject) {\n",
       "        var s = document.createElement('script');\n",
       "        s.src = paths[lib];\n",
       "        s.async = true;\n",
       "        s.onload = () => resolve(paths[lib]);\n",
       "        s.onerror = () => reject(`Error loading script: ${paths[lib]}`);\n",
       "        document.getElementsByTagName(\"head\")[0].appendChild(s);\n",
       "      });\n",
       "    }\n",
       "\n",
       "    function showError(err) {\n",
       "      outputDiv.innerHTML = `<div class=\"error\" style=\"color:red;\">${err}</div>`;\n",
       "      throw err;\n",
       "    }\n",
       "\n",
       "    function displayChart(vegaEmbed) {\n",
       "      vegaEmbed(outputDiv, spec, embedOpt)\n",
       "        .catch(err => showError(`Javascript Error: ${err.message}<br>This usually means there's a typo in your chart specification. See the javascript console for the full traceback.`));\n",
       "    }\n",
       "\n",
       "    if(typeof define === \"function\" && define.amd) {\n",
       "      requirejs.config({paths});\n",
       "      require([\"vega-embed\"], displayChart, err => showError(`Error loading script: ${err.message}`));\n",
       "    } else if (typeof vegaEmbed === \"function\") {\n",
       "      displayChart(vegaEmbed);\n",
       "    } else {\n",
       "      loadScript(\"vega\")\n",
       "        .then(() => loadScript(\"vega-lite\"))\n",
       "        .then(() => loadScript(\"vega-embed\"))\n",
       "        .catch(showError)\n",
       "        .then(() => displayChart(vegaEmbed));\n",
       "    }\n",
       "  })({\"config\": {\"view\": {\"continuousWidth\": 400, \"continuousHeight\": 300}}, \"layer\": [{\"mark\": \"bar\", \"encoding\": {\"color\": {\"type\": \"nominal\", \"field\": \"site\"}, \"x\": {\"type\": \"quantitative\", \"aggregate\": \"sum\", \"field\": \"yield\", \"stack\": \"zero\"}, \"y\": {\"type\": \"nominal\", \"field\": \"variety\"}}}, {\"mark\": {\"type\": \"text\", \"color\": \"white\", \"dx\": -15, \"dy\": 3}, \"encoding\": {\"detail\": {\"type\": \"nominal\", \"field\": \"site\"}, \"text\": {\"type\": \"quantitative\", \"aggregate\": \"sum\", \"field\": \"yield\", \"format\": \".1f\"}, \"x\": {\"type\": \"quantitative\", \"aggregate\": \"sum\", \"field\": \"yield\", \"stack\": \"zero\"}, \"y\": {\"type\": \"nominal\", \"field\": \"variety\"}}}], \"data\": {\"name\": \"data-093ece8c35bb2d41094cfb6138ec810b\"}, \"$schema\": \"https://vega.github.io/schema/vega-lite/v4.8.1.json\", \"datasets\": {\"data-093ece8c35bb2d41094cfb6138ec810b\": [{\"site\": \"University Farm\", \"variety\": \"Manchuria\", \"year\": 1931, \"yield\": 27.0}, {\"site\": \"Waseca\", \"variety\": \"Manchuria\", \"year\": 1931, \"yield\": 48.86667}, {\"site\": \"Morris\", \"variety\": \"Manchuria\", \"year\": 1931, \"yield\": 27.43334}, {\"site\": \"Crookston\", \"variety\": \"Manchuria\", \"year\": 1931, \"yield\": 39.93333}, {\"site\": \"Grand Rapids\", \"variety\": \"Manchuria\", \"year\": 1931, \"yield\": 32.96667}, {\"site\": \"Duluth\", \"variety\": \"Manchuria\", \"year\": 1931, \"yield\": 28.96667}, {\"site\": \"University Farm\", \"variety\": \"Glabron\", \"year\": 1931, \"yield\": 43.06666}, {\"site\": \"Waseca\", \"variety\": \"Glabron\", \"year\": 1931, \"yield\": 55.2}, {\"site\": \"Morris\", \"variety\": \"Glabron\", \"year\": 1931, \"yield\": 28.76667}, {\"site\": \"Crookston\", \"variety\": \"Glabron\", \"year\": 1931, \"yield\": 38.13333}, {\"site\": \"Grand Rapids\", \"variety\": \"Glabron\", \"year\": 1931, \"yield\": 29.13333}, {\"site\": \"Duluth\", \"variety\": \"Glabron\", \"year\": 1931, \"yield\": 29.66667}, {\"site\": \"University Farm\", \"variety\": \"Svansota\", \"year\": 1931, \"yield\": 35.13333}, {\"site\": \"Waseca\", \"variety\": \"Svansota\", \"year\": 1931, \"yield\": 47.33333}, {\"site\": \"Morris\", \"variety\": \"Svansota\", \"year\": 1931, \"yield\": 25.76667}, {\"site\": \"Crookston\", \"variety\": \"Svansota\", \"year\": 1931, \"yield\": 40.46667}, {\"site\": \"Grand Rapids\", \"variety\": \"Svansota\", \"year\": 1931, \"yield\": 29.66667}, {\"site\": \"Duluth\", \"variety\": \"Svansota\", \"year\": 1931, \"yield\": 25.7}, {\"site\": \"University Farm\", \"variety\": \"Velvet\", \"year\": 1931, \"yield\": 39.9}, {\"site\": \"Waseca\", \"variety\": \"Velvet\", \"year\": 1931, \"yield\": 50.23333}, {\"site\": \"Morris\", \"variety\": \"Velvet\", \"year\": 1931, \"yield\": 26.13333}, {\"site\": \"Crookston\", \"variety\": \"Velvet\", \"year\": 1931, \"yield\": 41.33333}, {\"site\": \"Grand Rapids\", \"variety\": \"Velvet\", \"year\": 1931, \"yield\": 23.03333}, {\"site\": \"Duluth\", \"variety\": \"Velvet\", \"year\": 1931, \"yield\": 26.3}, {\"site\": \"University Farm\", \"variety\": \"Trebi\", \"year\": 1931, \"yield\": 36.56666}, {\"site\": \"Waseca\", \"variety\": \"Trebi\", \"year\": 1931, \"yield\": 63.8333}, {\"site\": \"Morris\", \"variety\": \"Trebi\", \"year\": 1931, \"yield\": 43.76667}, {\"site\": \"Crookston\", \"variety\": \"Trebi\", \"year\": 1931, \"yield\": 46.93333}, {\"site\": \"Grand Rapids\", \"variety\": \"Trebi\", \"year\": 1931, \"yield\": 29.76667}, {\"site\": \"Duluth\", \"variety\": \"Trebi\", \"year\": 1931, \"yield\": 33.93333}, {\"site\": \"University Farm\", \"variety\": \"No. 457\", \"year\": 1931, \"yield\": 43.26667}, {\"site\": \"Waseca\", \"variety\": \"No. 457\", \"year\": 1931, \"yield\": 58.1}, {\"site\": \"Morris\", \"variety\": \"No. 457\", \"year\": 1931, \"yield\": 28.7}, {\"site\": \"Crookston\", \"variety\": \"No. 457\", \"year\": 1931, \"yield\": 45.66667}, {\"site\": \"Grand Rapids\", \"variety\": \"No. 457\", \"year\": 1931, \"yield\": 32.16667}, {\"site\": \"Duluth\", \"variety\": \"No. 457\", \"year\": 1931, \"yield\": 33.6}, {\"site\": \"University Farm\", \"variety\": \"No. 462\", \"year\": 1931, \"yield\": 36.6}, {\"site\": \"Waseca\", \"variety\": \"No. 462\", \"year\": 1931, \"yield\": 65.7667}, {\"site\": \"Morris\", \"variety\": \"No. 462\", \"year\": 1931, \"yield\": 30.36667}, {\"site\": \"Crookston\", \"variety\": \"No. 462\", \"year\": 1931, \"yield\": 48.56666}, {\"site\": \"Grand Rapids\", \"variety\": \"No. 462\", \"year\": 1931, \"yield\": 24.93334}, {\"site\": \"Duluth\", \"variety\": \"No. 462\", \"year\": 1931, \"yield\": 28.1}, {\"site\": \"University Farm\", \"variety\": \"Peatland\", \"year\": 1931, \"yield\": 32.76667}, {\"site\": \"Waseca\", \"variety\": \"Peatland\", \"year\": 1931, \"yield\": 48.56666}, {\"site\": \"Morris\", \"variety\": \"Peatland\", \"year\": 1931, \"yield\": 29.86667}, {\"site\": \"Crookston\", \"variety\": \"Peatland\", \"year\": 1931, \"yield\": 41.6}, {\"site\": \"Grand Rapids\", \"variety\": \"Peatland\", \"year\": 1931, \"yield\": 34.7}, {\"site\": \"Duluth\", \"variety\": \"Peatland\", \"year\": 1931, \"yield\": 32.0}, {\"site\": \"University Farm\", \"variety\": \"No. 475\", \"year\": 1931, \"yield\": 24.66667}, {\"site\": \"Waseca\", \"variety\": \"No. 475\", \"year\": 1931, \"yield\": 46.76667}, {\"site\": \"Morris\", \"variety\": \"No. 475\", \"year\": 1931, \"yield\": 22.6}, {\"site\": \"Crookston\", \"variety\": \"No. 475\", \"year\": 1931, \"yield\": 44.1}, {\"site\": \"Grand Rapids\", \"variety\": \"No. 475\", \"year\": 1931, \"yield\": 19.7}, {\"site\": \"Duluth\", \"variety\": \"No. 475\", \"year\": 1931, \"yield\": 33.06666}, {\"site\": \"University Farm\", \"variety\": \"Wisconsin No. 38\", \"year\": 1931, \"yield\": 39.3}, {\"site\": \"Waseca\", \"variety\": \"Wisconsin No. 38\", \"year\": 1931, \"yield\": 58.8}, {\"site\": \"Morris\", \"variety\": \"Wisconsin No. 38\", \"year\": 1931, \"yield\": 29.46667}, {\"site\": \"Crookston\", \"variety\": \"Wisconsin No. 38\", \"year\": 1931, \"yield\": 49.86667}, {\"site\": \"Grand Rapids\", \"variety\": \"Wisconsin No. 38\", \"year\": 1931, \"yield\": 34.46667}, {\"site\": \"Duluth\", \"variety\": \"Wisconsin No. 38\", \"year\": 1931, \"yield\": 31.6}, {\"site\": \"University Farm\", \"variety\": \"Manchuria\", \"year\": 1932, \"yield\": 26.9}, {\"site\": \"Waseca\", \"variety\": \"Manchuria\", \"year\": 1932, \"yield\": 33.46667}, {\"site\": \"Morris\", \"variety\": \"Manchuria\", \"year\": 1932, \"yield\": 34.36666}, {\"site\": \"Crookston\", \"variety\": \"Manchuria\", \"year\": 1932, \"yield\": 32.96667}, {\"site\": \"Grand Rapids\", \"variety\": \"Manchuria\", \"year\": 1932, \"yield\": 22.13333}, {\"site\": \"Duluth\", \"variety\": \"Manchuria\", \"year\": 1932, \"yield\": 22.56667}, {\"site\": \"University Farm\", \"variety\": \"Glabron\", \"year\": 1932, \"yield\": 36.8}, {\"site\": \"Waseca\", \"variety\": \"Glabron\", \"year\": 1932, \"yield\": 37.73333}, {\"site\": \"Morris\", \"variety\": \"Glabron\", \"year\": 1932, \"yield\": 35.13333}, {\"site\": \"Crookston\", \"variety\": \"Glabron\", \"year\": 1932, \"yield\": 26.16667}, {\"site\": \"Grand Rapids\", \"variety\": \"Glabron\", \"year\": 1932, \"yield\": 14.43333}, {\"site\": \"Duluth\", \"variety\": \"Glabron\", \"year\": 1932, \"yield\": 25.86667}, {\"site\": \"University Farm\", \"variety\": \"Svansota\", \"year\": 1932, \"yield\": 27.43334}, {\"site\": \"Waseca\", \"variety\": \"Svansota\", \"year\": 1932, \"yield\": 38.5}, {\"site\": \"Morris\", \"variety\": \"Svansota\", \"year\": 1932, \"yield\": 35.03333}, {\"site\": \"Crookston\", \"variety\": \"Svansota\", \"year\": 1932, \"yield\": 20.63333}, {\"site\": \"Grand Rapids\", \"variety\": \"Svansota\", \"year\": 1932, \"yield\": 16.63333}, {\"site\": \"Duluth\", \"variety\": \"Svansota\", \"year\": 1932, \"yield\": 22.23333}, {\"site\": \"University Farm\", \"variety\": \"Velvet\", \"year\": 1932, \"yield\": 26.8}, {\"site\": \"Waseca\", \"variety\": \"Velvet\", \"year\": 1932, \"yield\": 37.4}, {\"site\": \"Morris\", \"variety\": \"Velvet\", \"year\": 1932, \"yield\": 38.83333}, {\"site\": \"Crookston\", \"variety\": \"Velvet\", \"year\": 1932, \"yield\": 32.06666}, {\"site\": \"Grand Rapids\", \"variety\": \"Velvet\", \"year\": 1932, \"yield\": 32.23333}, {\"site\": \"Duluth\", \"variety\": \"Velvet\", \"year\": 1932, \"yield\": 22.46667}, {\"site\": \"University Farm\", \"variety\": \"Trebi\", \"year\": 1932, \"yield\": 29.06667}, {\"site\": \"Waseca\", \"variety\": \"Trebi\", \"year\": 1932, \"yield\": 49.2333}, {\"site\": \"Morris\", \"variety\": \"Trebi\", \"year\": 1932, \"yield\": 46.63333}, {\"site\": \"Crookston\", \"variety\": \"Trebi\", \"year\": 1932, \"yield\": 41.83333}, {\"site\": \"Grand Rapids\", \"variety\": \"Trebi\", \"year\": 1932, \"yield\": 20.63333}, {\"site\": \"Duluth\", \"variety\": \"Trebi\", \"year\": 1932, \"yield\": 30.6}, {\"site\": \"University Farm\", \"variety\": \"No. 457\", \"year\": 1932, \"yield\": 26.43334}, {\"site\": \"Waseca\", \"variety\": \"No. 457\", \"year\": 1932, \"yield\": 42.2}, {\"site\": \"Morris\", \"variety\": \"No. 457\", \"year\": 1932, \"yield\": 43.53334}, {\"site\": \"Crookston\", \"variety\": \"No. 457\", \"year\": 1932, \"yield\": 34.33333}, {\"site\": \"Grand Rapids\", \"variety\": \"No. 457\", \"year\": 1932, \"yield\": 19.46667}, {\"site\": \"Duluth\", \"variety\": \"No. 457\", \"year\": 1932, \"yield\": 22.7}, {\"site\": \"University Farm\", \"variety\": \"No. 462\", \"year\": 1932, \"yield\": 25.56667}, {\"site\": \"Waseca\", \"variety\": \"No. 462\", \"year\": 1932, \"yield\": 44.7}, {\"site\": \"Morris\", \"variety\": \"No. 462\", \"year\": 1932, \"yield\": 47.0}, {\"site\": \"Crookston\", \"variety\": \"No. 462\", \"year\": 1932, \"yield\": 30.53333}, {\"site\": \"Grand Rapids\", \"variety\": \"No. 462\", \"year\": 1932, \"yield\": 19.9}, {\"site\": \"Duluth\", \"variety\": \"No. 462\", \"year\": 1932, \"yield\": 22.5}, {\"site\": \"University Farm\", \"variety\": \"Peatland\", \"year\": 1932, \"yield\": 28.06667}, {\"site\": \"Waseca\", \"variety\": \"Peatland\", \"year\": 1932, \"yield\": 36.03333}, {\"site\": \"Morris\", \"variety\": \"Peatland\", \"year\": 1932, \"yield\": 43.2}, {\"site\": \"Crookston\", \"variety\": \"Peatland\", \"year\": 1932, \"yield\": 25.23333}, {\"site\": \"Grand Rapids\", \"variety\": \"Peatland\", \"year\": 1932, \"yield\": 26.76667}, {\"site\": \"Duluth\", \"variety\": \"Peatland\", \"year\": 1932, \"yield\": 31.36667}, {\"site\": \"University Farm\", \"variety\": \"No. 475\", \"year\": 1932, \"yield\": 30.0}, {\"site\": \"Waseca\", \"variety\": \"No. 475\", \"year\": 1932, \"yield\": 41.26667}, {\"site\": \"Morris\", \"variety\": \"No. 475\", \"year\": 1932, \"yield\": 44.23333}, {\"site\": \"Crookston\", \"variety\": \"No. 475\", \"year\": 1932, \"yield\": 32.13333}, {\"site\": \"Grand Rapids\", \"variety\": \"No. 475\", \"year\": 1932, \"yield\": 15.23333}, {\"site\": \"Duluth\", \"variety\": \"No. 475\", \"year\": 1932, \"yield\": 27.36667}, {\"site\": \"University Farm\", \"variety\": \"Wisconsin No. 38\", \"year\": 1932, \"yield\": 38.0}, {\"site\": \"Waseca\", \"variety\": \"Wisconsin No. 38\", \"year\": 1932, \"yield\": 58.16667}, {\"site\": \"Morris\", \"variety\": \"Wisconsin No. 38\", \"year\": 1932, \"yield\": 47.16667}, {\"site\": \"Crookston\", \"variety\": \"Wisconsin No. 38\", \"year\": 1932, \"yield\": 35.9}, {\"site\": \"Grand Rapids\", \"variety\": \"Wisconsin No. 38\", \"year\": 1932, \"yield\": 20.66667}, {\"site\": \"Duluth\", \"variety\": \"Wisconsin No. 38\", \"year\": 1932, \"yield\": 29.33333}]}}, {\"mode\": \"vega-lite\"});\n",
       "</script>"
      ],
      "text/plain": [
       "alt.LayerChart(...)"
      ]
     },
     "execution_count": 5,
     "metadata": {},
     "output_type": "execute_result"
    }
   ],
   "source": [
    "bars = alt.Chart(source).mark_bar().encode(\n",
    "    x=alt.X('sum(yield):Q', stack='zero'),\n",
    "    y=alt.Y('variety:N'),\n",
    "    color=alt.Color('site')\n",
    ")\n",
    "\n",
    "text = alt.Chart(source).mark_text(dx=-15, dy=3, color='white').encode(\n",
    "    x=alt.X('sum(yield):Q', stack='zero'),\n",
    "    y=alt.Y('variety:N'),\n",
    "    detail='site:N',\n",
    "    text=alt.Text('sum(yield):Q', format='.1f')\n",
    ")\n",
    "\n",
    "bars + text"
   ]
  },
  {
   "cell_type": "code",
   "execution_count": null,
   "metadata": {},
   "outputs": [],
   "source": []
  }
 ],
 "metadata": {
  "kernelspec": {
   "display_name": "Python 3",
   "language": "python",
   "name": "python3"
  },
  "language_info": {
   "codemirror_mode": {
    "name": "ipython",
    "version": 3
   },
   "file_extension": ".py",
   "mimetype": "text/x-python",
   "name": "python",
   "nbconvert_exporter": "python",
   "pygments_lexer": "ipython3",
   "version": "3.7.1"
  }
 },
 "nbformat": 4,
 "nbformat_minor": 2
}
